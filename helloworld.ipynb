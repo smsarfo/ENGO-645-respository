{
 "cells": [
  {
   "cell_type": "code",
   "execution_count": 1,
   "id": "6cfa8efa-e009-4119-91f7-f3a1531c6e2c",
   "metadata": {},
   "outputs": [
    {
     "name": "stdout",
     "output_type": "stream",
     "text": [
      "Hello class of ENGO645!\n"
     ]
    }
   ],
   "source": [
    "print(\"Hello class of ENGO645!\")"
   ]
  },
  {
   "cell_type": "code",
   "execution_count": null,
   "id": "1b6616ae-d149-41c8-bada-e7e886f36033",
   "metadata": {},
   "outputs": [],
   "source": []
  },
  {
   "cell_type": "code",
   "execution_count": null,
   "id": "d8fe7410-111e-4c32-a0f8-f2ef8d35e210",
   "metadata": {},
   "outputs": [],
   "source": []
  }
 ],
 "metadata": {
  "kernelspec": {
   "display_name": "Python 3 (ipykernel)",
   "language": "python",
   "name": "python3"
  },
  "language_info": {
   "codemirror_mode": {
    "name": "ipython",
    "version": 3
   },
   "file_extension": ".py",
   "mimetype": "text/x-python",
   "name": "python",
   "nbconvert_exporter": "python",
   "pygments_lexer": "ipython3",
   "version": "3.11.5"
  }
 },
 "nbformat": 4,
 "nbformat_minor": 5
}
